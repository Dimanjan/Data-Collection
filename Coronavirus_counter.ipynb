{
  "nbformat": 4,
  "nbformat_minor": 0,
  "metadata": {
    "colab": {
      "name": "Coronavirus_counter",
      "provenance": []
    },
    "kernelspec": {
      "name": "python3",
      "display_name": "Python 3"
    }
  },
  "cells": [
    {
      "cell_type": "code",
      "metadata": {
        "id": "Nk6sH-oatkMH",
        "colab_type": "code",
        "colab": {
          "base_uri": "https://localhost:8080/",
          "height": 34
        },
        "outputId": "90f144c9-6ec3-495d-fa74-1ed774204c6d"
      },
      "source": [
        "import requests as rq\n",
        "req = rq.get('https://www.worldometers.info/coronavirus/')\n",
        "from bs4 import BeautifulSoup\n",
        "html_soup = BeautifulSoup(req.text, 'html.parser')\n",
        "a=html_soup.find_all(class_=\"maincounter-number\")\n",
        "l=['Active','Dead','Recovered']\n",
        "d={}\n",
        "c=0\n",
        "for i in a:\n",
        "  d[l[c]]=a[c].text\n",
        "  c+=1\n",
        "d"
      ],
      "execution_count": 13,
      "outputs": [
        {
          "output_type": "execute_result",
          "data": {
            "text/plain": [
              "{'Active': ' 76,742  ', 'Dead': ' 2,247 ', 'Recovered': ' 18,584 '}"
            ]
          },
          "metadata": {
            "tags": []
          },
          "execution_count": 13
        }
      ]
    }
  ]
}